{
 "cells": [
  {
   "cell_type": "code",
   "execution_count": 135,
   "metadata": {},
   "outputs": [],
   "source": [
    "import warnings\n",
    "warnings.filterwarnings(\"ignore\")\n",
    "\n",
    "import pandas as pd\n",
    "import seaborn as sns\n",
    "import numpy as np\n",
    "from matplotlib import pyplot as plt\n",
    "from datetime import datetime\n",
    "import scipy\n",
    "from sklearn.preprocessing import scale\n",
    "from scipy.cluster import hierarchy\n",
    "from scipy.stats import skew  \n",
    "from scipy.special import boxcox1p\n",
    "from scipy.stats import boxcox_normmax\n",
    "\n",
    "import xgboost\n",
    "from lightgbm import LGBMRegressor\n",
    "from sklearn.metrics import mean_squared_error\n",
    "from sklearn.ensemble import GradientBoostingRegressor\n",
    "from sklearn.preprocessing import OneHotEncoder\n",
    "from sklearn.pipeline import make_pipeline\n",
    "from sklearn.compose import make_column_transformer\n",
    "from sklearn.preprocessing import RobustScaler\n",
    "from sklearn.linear_model import LinearRegression\n",
    "from sklearn.model_selection import train_test_split\n",
    "from sklearn.model_selection import cross_val_score\n",
    "from sklearn.preprocessing import OneHotEncoder\n",
    "from sklearn.linear_model import Lasso\n",
    "from sklearn.linear_model import Ridge\n",
    "from sklearn.linear_model import ElasticNet\n",
    "from sklearn.model_selection import GridSearchCV\n",
    "from sklearn.preprocessing import StandardScaler\n",
    "from sklearn.metrics import r2_score\n",
    "from sklearn.impute import SimpleImputer\n",
    "from sklearn.ensemble import RandomForestRegressor\n",
    "from mlxtend.regressor import StackingRegressor\n",
    "from sklearn.kernel_ridge import KernelRidge\n",
    "\n",
    "np.random.seed(7)"
   ]
  },
  {
   "cell_type": "code",
   "execution_count": 177,
   "metadata": {},
   "outputs": [],
   "source": [
    "train = pd.read_csv('Data/train.csv')\n",
    "test = pd.read_csv('Data/test.csv')\n",
    "\n",
    "# Recommended by the creator of the dataset.\n",
    "train = train.drop(train[(train['GrLivArea']>4000) & (train['SalePrice']<300000)].index)\n",
    "\n",
    "#Save ID\n",
    "train_ID = train['Id']\n",
    "test_ID = test['Id']\n",
    "\n",
    "X_train = train.drop(['Id','SalePrice'], axis = 1)\n",
    "y_train = train.SalePrice\n",
    "\n",
    "test = test.drop('Id',axis = 1)"
   ]
  },
  {
   "cell_type": "markdown",
   "metadata": {},
   "source": [
    "## Feature engineering"
   ]
  },
  {
   "cell_type": "code",
   "execution_count": 178,
   "metadata": {},
   "outputs": [],
   "source": [
    "def split(X_train,y_train): # split function\n",
    "\n",
    "    X_train, X_test, y_train, y_test  = train_test_split(X_train,y_train)\n",
    "    \n",
    "    return X_train, X_test, y_train, y_test"
   ]
  },
  {
   "cell_type": "markdown",
   "metadata": {},
   "source": [
    "### Missing values"
   ]
  },
  {
   "cell_type": "markdown",
   "metadata": {},
   "source": [
    "The documentation mentioned that we had missing values, let's check them out. "
   ]
  },
  {
   "cell_type": "code",
   "execution_count": 179,
   "metadata": {},
   "outputs": [],
   "source": [
    "missing = X_train.isnull().sum() / len(X_train) # Let's get the missing values percentage for each column.\n",
    "missing = missing.sort_values(ascending=False).to_frame('Missing percentage').reset_index() # Lets sort it."
   ]
  },
  {
   "cell_type": "code",
   "execution_count": 180,
   "metadata": {},
   "outputs": [
    {
     "data": {
      "text/html": [
       "<div>\n",
       "<style scoped>\n",
       "    .dataframe tbody tr th:only-of-type {\n",
       "        vertical-align: middle;\n",
       "    }\n",
       "\n",
       "    .dataframe tbody tr th {\n",
       "        vertical-align: top;\n",
       "    }\n",
       "\n",
       "    .dataframe thead th {\n",
       "        text-align: right;\n",
       "    }\n",
       "</style>\n",
       "<table border=\"1\" class=\"dataframe\">\n",
       "  <thead>\n",
       "    <tr style=\"text-align: right;\">\n",
       "      <th></th>\n",
       "      <th>index</th>\n",
       "      <th>Missing percentage</th>\n",
       "    </tr>\n",
       "  </thead>\n",
       "  <tbody>\n",
       "    <tr>\n",
       "      <th>0</th>\n",
       "      <td>PoolQC</td>\n",
       "      <td>0.995885</td>\n",
       "    </tr>\n",
       "    <tr>\n",
       "      <th>1</th>\n",
       "      <td>MiscFeature</td>\n",
       "      <td>0.962963</td>\n",
       "    </tr>\n",
       "    <tr>\n",
       "      <th>2</th>\n",
       "      <td>Alley</td>\n",
       "      <td>0.937586</td>\n",
       "    </tr>\n",
       "    <tr>\n",
       "      <th>3</th>\n",
       "      <td>Fence</td>\n",
       "      <td>0.807270</td>\n",
       "    </tr>\n",
       "    <tr>\n",
       "      <th>4</th>\n",
       "      <td>FireplaceQu</td>\n",
       "      <td>0.473251</td>\n",
       "    </tr>\n",
       "  </tbody>\n",
       "</table>\n",
       "</div>"
      ],
      "text/plain": [
       "         index  Missing percentage\n",
       "0       PoolQC            0.995885\n",
       "1  MiscFeature            0.962963\n",
       "2        Alley            0.937586\n",
       "3        Fence            0.807270\n",
       "4  FireplaceQu            0.473251"
      ]
     },
     "execution_count": 180,
     "metadata": {},
     "output_type": "execute_result"
    }
   ],
   "source": [
    "missing.head(5) # Now let's see the 5 columns with more missing values."
   ]
  },
  {
   "cell_type": "markdown",
   "metadata": {},
   "source": [
    "We can see that we have some features with a lot of missing values, such as Pool, Misc Feature and Alley. We could drop them.   \n",
    "However, the documentation states that no value means that there is no pool or misc feature or alley. So despite it being a small amount of information, it could still be valuable."
   ]
  },
  {
   "cell_type": "markdown",
   "metadata": {},
   "source": [
    "### Dependent variable"
   ]
  },
  {
   "cell_type": "markdown",
   "metadata": {},
   "source": [
    "First, let's see our original column, saleprice. "
   ]
  },
  {
   "cell_type": "code",
   "execution_count": 181,
   "metadata": {},
   "outputs": [
    {
     "data": {
      "image/png": "[encoded data removed]",
      "text/plain": [
       "<Figure size 432x288 with 1 Axes>"
      ]
     },
     "metadata": {},
     "output_type": "display_data"
    }
   ],
   "source": [
    "sns.distplot(y_train)\n",
    "plt.show()"
   ]
  },
  {
   "cell_type": "markdown",
   "metadata": {},
   "source": [
    "We can see that our data looks like a normal with a right skew.  In order to correct this, we will transform our values from SalePrice"
   ]
  },
  {
   "cell_type": "code",
   "execution_count": 182,
   "metadata": {},
   "outputs": [
    {
     "data": {
      "image/png": "[encoded data removed]",
      "text/plain": [
       "<Figure size 432x288 with 1 Axes>"
      ]
     },
     "metadata": {},
     "output_type": "display_data"
    }
   ],
   "source": [
    "# np.log1p does log(1+x) to the SalePrice\n",
    "y_train = np.log1p(y_train)\n",
    "# Lets see how it looks\n",
    "sns.distplot(y_train);\n",
    "plt.show()"
   ]
  },
  {
   "cell_type": "markdown",
   "metadata": {},
   "source": [
    "### Correlations"
   ]
  },
  {
   "cell_type": "markdown",
   "metadata": {},
   "source": [
    "Let's see how our variables correlate with the dependent variable."
   ]
  },
  {
   "cell_type": "code",
   "execution_count": 183,
   "metadata": {},
   "outputs": [],
   "source": [
    "corrmat = X_train.corr()\n",
    "# Lets order the correlation matrix in order for it to be more readable\n",
    "order = np.array(hierarchy.dendrogram(\n",
    "    hierarchy.ward(corrmat),no_plot=True)['ivl'], dtype=\"int\")"
   ]
  },
  {
   "cell_type": "code",
   "execution_count": 184,
   "metadata": {},
   "outputs": [],
   "source": [
    "corrmat_ordered = corrmat.iloc[order,order]"
   ]
  },
  {
   "cell_type": "code",
   "execution_count": 185,
   "metadata": {},
   "outputs": [
    {
     "data": {
      "image/png": "[encoded data removed]",
      "text/plain": [
       "<Figure size 432x288 with 2 Axes>"
      ]
     },
     "metadata": {},
     "output_type": "display_data"
    }
   ],
   "source": [
    "sns.heatmap(corrmat_ordered, vmax=0.9, square=True)\n",
    "plt.show()"
   ]
  },
  {
   "cell_type": "markdown",
   "metadata": {},
   "source": [
    "Now that we have a better idea of the data, we can do the feature engineering (visualizations.ipynb)"
   ]
  },
  {
   "cell_type": "code",
   "execution_count": 205,
   "metadata": {},
   "outputs": [],
   "source": [
    "def feature_eng(X_train, y_train, test):\n",
    "\n",
    "    data = pd.concat([X_train,test]).reset_index(drop=True)\n",
    "\n",
    "    ### Data imputation ###\n",
    "\n",
    "    # First, there are features that are considered numerical when they are not. We have to change this\n",
    "    to_str = ['MSSubClass','YrSold','MoSold']\n",
    "    for col in to_str: data[col] = data[col].apply(str)\n",
    "\n",
    "    #  Let's get the mode for each of these values as imputation\n",
    "    to_mode = ['Functional','Electrical','KitchenQual','Exterior1st','Exterior2nd','SaleType']\n",
    "    for col in to_mode: data[col] = data[col].fillna(data[col].mode()[0])\n",
    "\n",
    "\n",
    "    # For MSZoning and LotFrontage, it seems a popular choice for other competitors to group by neighborhood and then take mode or median, so we will do the same.\n",
    "    data['MSZoning'] = data.groupby('MSSubClass')['MSZoning'].transform(lambda x: x.fillna(x.mode()[0]))\n",
    "    data['LotFrontage'] = data.groupby('Neighborhood')['LotFrontage'].transform(lambda x: x.fillna(x.median()))\n",
    "\n",
    "    #  Now, for some of our valuables, Nan actually means none or cero, depending on the case. We should change this.\n",
    "    # This is actually the case for all the variables that we have left.\n",
    "\n",
    "    # None\n",
    "    for col in data.columns:\n",
    "        if data[col].dtype == object: data[col] = data[col].fillna('None')\n",
    "    \n",
    "    # Cero\n",
    "    for col in data.columns:\n",
    "        if data[col].dtype != object: \n",
    "            data[col] = data[col].fillna(0)\n",
    "\n",
    "    ### Box Cox ###  This idea/code comes from: https://www.kaggle.com/apapiu/house-prices-advanced-regression-techniques/regularized-linear-models\n",
    "\n",
    "    # Now that our data is complete, we will do box cox transformation for skewed data. Everything with a skew above 0.5 is skewed. \n",
    "    # First, let's get numerical columns.\n",
    "    numerical = [col for col in data.columns if data[col].dtype != object]\n",
    "\n",
    "    # Now we calculate the skew. \n",
    "    skew_data = data[numerical].apply(lambda x: skew(x)).sort_values(ascending=False)\n",
    "\n",
    "    # Whatever is higher than 0.5, we will apply the box cox transformation\n",
    "    high_skew = skew_data[skew_data > 0.5]\n",
    "    skew_index = high_skew.index\n",
    "\n",
    "    for i in skew_index:\n",
    "        data[i] = boxcox1p(data[i], boxcox_normmax(data[i] + 1))\n",
    "\n",
    "    ### Obtaining additional features ###\n",
    "\n",
    "    # This part is quite intuitive, but i did not think of it until I saw it.\n",
    "    # The idea/code came from Alex Lekov: https://www.kaggle.com/itslek/blend-stack-lr-gb-0-10649-house-prices-v57\n",
    "  \n",
    "    data['YrBltAndRemod']=data['YearBuilt']+data['YearRemodAdd']\n",
    "    data['TotalSF']=data['TotalBsmtSF'] + data['1stFlrSF'] + data['2ndFlrSF']\n",
    "\n",
    "    data['Total_sqr_footage'] = (data['BsmtFinSF1'] + data['BsmtFinSF2'] +\n",
    "                                     data['1stFlrSF'] + data['2ndFlrSF'])\n",
    "\n",
    "    data['Total_Bathrooms'] = (data['FullBath'] + (0.5 * data['HalfBath']) +\n",
    "                                   data['BsmtFullBath'] + (0.5 * data['BsmtHalfBath']))\n",
    "\n",
    "    data['Total_porch_sf'] = (data['OpenPorchSF'] + data['3SsnPorch'] +\n",
    "                                  data['EnclosedPorch'] + data['ScreenPorch'] +\n",
    "                                  data['WoodDeckSF'])\n",
    "\n",
    "    # Simplified data, if it has it or not. \n",
    "    data['Pool'] = data['PoolArea'].apply(lambda x: 1 if x > 0 else 0)\n",
    "    data['2ndfloor'] = data['2ndFlrSF'].apply(lambda x: 1 if x > 0 else 0)\n",
    "    data['Garage'] = data['GarageArea'].apply(lambda x: 1 if x > 0 else 0)\n",
    "    data['Basement'] = data['TotalBsmtSF'].apply(lambda x: 1 if x > 0 else 0)\n",
    "    data['Fireplace'] = data['Fireplaces'].apply(lambda x: 1 if x > 0 else 0)\n",
    "\n",
    "    data = data.drop(['Utilities', 'Street', 'PoolQC',], axis=1)\n",
    "\n",
    "    ### Spliting back our data ###\n",
    "    \n",
    "    # final_data = pd.get_dummies(data).reset_index(drop=True)\n",
    "\n",
    "    X_train = data.iloc[:len(y_train), :]\n",
    "    test = data.iloc[len(X_train):, :]\n",
    "\n",
    "    return X_train, test"
   ]
  },
  {
   "cell_type": "code",
   "execution_count": 187,
   "metadata": {},
   "outputs": [],
   "source": [
    "X_train, test = feature_eng(X_train,y_train,test)"
   ]
  },
  {
   "cell_type": "code",
   "execution_count": 188,
   "metadata": {},
   "outputs": [],
   "source": [
    "def check_missing(df,val): \n",
    "    missing = df.isnull().sum() / len(df) # Let's get the missing values percentage for each column.\n",
    "    missing = missing.sort_values(ascending=False).to_frame('Missing percentage').reset_index() # Lets sort it.\n",
    "    remaining = missing[missing['Missing percentage'] > val]['index'].values\n",
    "    return remaining"
   ]
  },
  {
   "cell_type": "code",
   "execution_count": 189,
   "metadata": {},
   "outputs": [
    {
     "data": {
      "text/plain": [
       "array([], dtype=object)"
      ]
     },
     "execution_count": 189,
     "metadata": {},
     "output_type": "execute_result"
    }
   ],
   "source": [
    "check_missing(X_train,0) # Now let's see if there are things that are left."
   ]
  },
  {
   "cell_type": "code",
   "execution_count": 190,
   "metadata": {},
   "outputs": [
    {
     "data": {
      "text/plain": [
       "array([], dtype=object)"
      ]
     },
     "execution_count": 190,
     "metadata": {},
     "output_type": "execute_result"
    }
   ],
   "source": [
    "check_missing(test,0)"
   ]
  },
  {
   "cell_type": "markdown",
   "metadata": {},
   "source": [
    "Now that we know what our dataframe features are, and we have done some feature selection, we are going to start trying to predict."
   ]
  },
  {
   "cell_type": "markdown",
   "metadata": {},
   "source": [
    "## Baseline"
   ]
  },
  {
   "cell_type": "markdown",
   "metadata": {},
   "source": [
    "Let's create a baseline for prediction. We will create a couple linear regresions and see what parameters are optimal. Once this is done, we will try to obtain a prediction and see how we did. "
   ]
  },
  {
   "cell_type": "code",
   "execution_count": 191,
   "metadata": {},
   "outputs": [],
   "source": [
    "def regression_w_GS(X_train,y_train):\n",
    "\n",
    "    categorical = X_train.dtypes == object\n",
    "    X_train, X_test, y_train, y_test = split(X_train,y_train)\n",
    "\n",
    "    # Lets do the column transformer with Standar Scaler and One-Hot Encoder.\n",
    "    preprocess = make_column_transformer(\n",
    "        (RobustScaler(), ~categorical),\n",
    "        (OneHotEncoder(handle_unknown = 'ignore'), categorical))\n",
    "\n",
    "    model_LR = make_pipeline(preprocess, LinearRegression())\n",
    "    model_R = make_pipeline(preprocess, Ridge())\n",
    "    model_L = make_pipeline(preprocess, Lasso())\n",
    "    model_EN = make_pipeline(preprocess, ElasticNet())\n",
    "    model_KR = make_pipeline(preprocess,  KernelRidge())\n",
    "\n",
    "    # Linear Regression.\n",
    "\n",
    "    param_grid_LR = {'linearregression__fit_intercept': (True,False),\n",
    "                  'linearregression__normalize': (True,False)}\n",
    "\n",
    "    grid_LR = GridSearchCV(model_LR,param_grid_LR,scoring=\"neg_mean_squared_error\", cv=5, n_jobs = -1)\n",
    "    \n",
    "    #return X_train, y_train\n",
    "    \n",
    "    grid_LR.fit(X_train, y_train)\n",
    "\n",
    "    print('\\t\\t\\t Linear Regression: \\n')\n",
    "    print(grid_LR.best_params_, '\\t score: ',np.sqrt(-grid_LR.score(X_test, y_test)),'\\n')\n",
    "\n",
    "    # Ridge.\n",
    "\n",
    "    param_grid_R = {'ridge__alpha':np.logspace(-3, 3, num=13)} # we will check alphas between 0.001 and 100\n",
    "\n",
    "    grid_R = GridSearchCV(model_R,param_grid_R,scoring=\"neg_mean_squared_error\", cv=3, n_jobs = -1)\n",
    "    grid_R.fit(X_train, y_train)\n",
    "\n",
    "    print('\\t\\t\\t Ridge: \\n')\n",
    "    print(grid_R.best_params_, '\\t score: ',np.sqrt(-grid_R.score(X_test, y_test)),'\\n')\n",
    "\n",
    "    # Lasso.\n",
    "\n",
    "    param_grid_L = {'lasso__alpha':np.logspace(-3, 3, num=13)} # we will check alphas between 0.001 and 100\n",
    "\n",
    "    grid_L = GridSearchCV(model_L,param_grid_L,scoring=\"neg_mean_squared_error\", cv=3, n_jobs = -1)\n",
    "    grid_L.fit(X_train, y_train)\n",
    "\n",
    "    print('\\t\\t\\t Lasso: \\n')\n",
    "    print(grid_L.best_params_, '\\t score: ',np.sqrt(-grid_L.score(X_test, y_test)),'\\n')\n",
    "\n",
    "    # ElasticNet.\n",
    "\n",
    "    param_grid_EN = {'elasticnet__alpha':np.logspace(-4, 0, 13)}\n",
    "\n",
    "    grid_EN = GridSearchCV(model_EN,param_grid_EN,scoring=\"neg_mean_squared_error\", cv=3, n_jobs = -1)\n",
    "    grid_EN.fit(X_train, y_train)\n",
    "\n",
    "    print('\\t\\t\\t ElasticNet: \\n')\n",
    "    print(grid_EN.best_params_, '\\t score: ',np.sqrt(-grid_EN.score(X_test, y_test)),'\\n')\n",
    "    \n",
    "    # Kernel Ridge\n",
    "\n",
    "\n",
    "    param_grid_KR = {'kernelridge__alpha':np.logspace(-3, 3, num=13)} # we will check alphas between 0.001 and 100\n",
    "\n",
    "    grid_KR = GridSearchCV(model_KR,param_grid_KR,scoring=\"neg_mean_squared_error\", cv=3, n_jobs = -1)\n",
    "    grid_KR.fit(X_train, y_train)\n",
    "\n",
    "    print('\\t\\t\\t Kernel Ridge: \\n')\n",
    "    print(grid_KR.best_params_, '\\t score: ',np.sqrt(-grid_KR.score(X_test, y_test)),'\\n')\n",
    "\n",
    "\n",
    "    "
   ]
  },
  {
   "cell_type": "code",
   "execution_count": 192,
   "metadata": {},
   "outputs": [
    {
     "name": "stdout",
     "output_type": "stream",
     "text": [
      "\t\t\t Linear Regression: \n",
      "\n",
      "{'linearregression__fit_intercept': True, 'linearregression__normalize': True} \t score:  0.15229931121318113 \n",
      "\n",
      "\t\t\t Ridge: \n",
      "\n",
      "{'ridge__alpha': 10.0} \t score:  0.11811815803767095 \n",
      "\n",
      "\t\t\t Lasso: \n",
      "\n",
      "{'lasso__alpha': 0.001} \t score:  0.11794766191146833 \n",
      "\n",
      "\t\t\t ElasticNet: \n",
      "\n",
      "{'elasticnet__alpha': 0.001} \t score:  0.1164082399796989 \n",
      "\n",
      "\t\t\t Kernel Ridge: \n",
      "\n",
      "{'kernelridge__alpha': 0.31622776601683794} \t score:  0.12946277871368242 \n",
      "\n"
     ]
    }
   ],
   "source": [
    "# Let's get the best alpha for ridge and lasso\n",
    "regression_w_GS(X_train,y_train)"
   ]
  },
  {
   "cell_type": "code",
   "execution_count": 193,
   "metadata": {},
   "outputs": [],
   "source": [
    "def regressions(X_train,y_train):\n",
    "    \n",
    "    categorical = X_train.dtypes == object\n",
    "    \n",
    "    # Lets do the column transformer with Standar Scaler and One-Hot Encoder.\n",
    "    preprocess = make_column_transformer(\n",
    "        (RobustScaler(), ~categorical),\n",
    "        (OneHotEncoder(handle_unknown = 'ignore'), categorical))\n",
    "\n",
    "    model_R = make_pipeline(preprocess, Ridge(alpha = 10))\n",
    "    model_L = make_pipeline(preprocess, Lasso(alpha = 1e-3))\n",
    "    model_EN = make_pipeline(preprocess, ElasticNet(alpha = 1e-3))\n",
    "    # We will use cross validation to avoid overfitting.\n",
    "    \n",
    "    \n",
    "    print('Ridge score is: ' , np.sqrt(-np.mean(cross_val_score(model_R,X_train,y_train,scoring=\"neg_mean_squared_error\", cv = 10,n_jobs = -1))),'\\n')\n",
    "    print('Lasso score is: ' , np.sqrt(-np.mean(cross_val_score(model_L,X_train,y_train,scoring=\"neg_mean_squared_error\", cv = 10,n_jobs = -1))),'\\n')\n",
    "    print('Elastic Net score is: ' , np.sqrt(-np.mean(cross_val_score(model_EN,X_train,y_train,scoring=\"neg_mean_squared_error\", cv = 10,n_jobs = -1))),'\\n')\n",
    "    \n",
    "    return model_EN, model_R, model_L"
   ]
  },
  {
   "cell_type": "code",
   "execution_count": 194,
   "metadata": {},
   "outputs": [
    {
     "name": "stdout",
     "output_type": "stream",
     "text": [
      "Ridge score is:  0.10995425493904373 \n",
      "\n",
      "Lasso score is:  0.10944181734382376 \n",
      "\n",
      "\n",
      " Elastic Net score is:  0.10768692235446294 \n",
      "\n"
     ]
    }
   ],
   "source": [
    "model_EN,model_R,model_L = regressions(X_train,y_train) # Now let's get our models with said hyperparameters."
   ]
  },
  {
   "cell_type": "markdown",
   "metadata": {},
   "source": [
    "## Modelling"
   ]
  },
  {
   "cell_type": "markdown",
   "metadata": {},
   "source": [
    "The RMSE and R squared are pretty descent right now. However, now that we know the prediction, I would like to go a step further and implement more robust algorithms and see if we can improve this score. The algorithms that we are going to use are:   \n",
    "\n",
    "* Random Forests\n",
    "* Gradient boosting\n",
    "* Light GBM\n",
    "\n",
    "and the model to beat is the linear regression."
   ]
  },
  {
   "cell_type": "code",
   "execution_count": 195,
   "metadata": {},
   "outputs": [],
   "source": [
    "def boosting_models(X_train,y_train):\n",
    "    \n",
    "    categorical = X_train.dtypes == object\n",
    "\n",
    "    # Lets do the column transformer with Standar Scaler and One-Hot Encoder.\n",
    "    preprocess = make_column_transformer(\n",
    "        (RobustScaler(), ~categorical),\n",
    "        (OneHotEncoder(handle_unknown = 'ignore'), categorical))\n",
    "    \n",
    "    model_GBC = make_pipeline(\n",
    "        preprocess,  GradientBoostingRegressor(alpha = 0.85,n_estimators = 1000,max_depth = 3, max_features = 70))\n",
    "    model_LGB = make_pipeline(\n",
    "        preprocess, LGBMRegressor(objective='regression',num_leaves=5,  \n",
    "                              learning_rate=0.05, n_estimators=800))\n",
    "    model_XGB = make_pipeline(\n",
    "        preprocess, xgboost.XGBRegressor(gamma=0.05,learning_rate=0.05, max_depth=3,\n",
    "                                         n_estimators=2500,reg_alpha=0.5, reg_lambda=0.85))\n",
    "\n",
    "    print('Gradient Boosting score is: ' ,\n",
    "          np.sqrt(-np.mean(cross_val_score(model_GBC,X_train,y_train, scoring=\"neg_mean_squared_error\", cv = 10, n_jobs = -1))),'\\n')\n",
    "    print('Light Gradient Boosting score is: ' ,\n",
    "          np.sqrt(-np.mean(cross_val_score(model_LGB,X_train,y_train, scoring=\"neg_mean_squared_error\", cv = 10, n_jobs = -1))),'\\n')\n",
    "    print(' Extreme Gradient Boosting score is: ' ,\n",
    "          np.sqrt(-np.mean(cross_val_score(model_XGB,X_train,y_train, scoring=\"neg_mean_squared_error\", cv = 5, n_jobs = -1))),'\\n')\n",
    "    \n",
    "    \n",
    "    return model_GBC, model_LGB,model_XGB"
   ]
  },
  {
   "cell_type": "code",
   "execution_count": 196,
   "metadata": {},
   "outputs": [
    {
     "name": "stdout",
     "output_type": "stream",
     "text": [
      "Gradient Boosting score is:  0.11704551425854046 \n",
      "\n",
      "Light Gradient Boosting score is:  0.11917911589977526 \n",
      "\n",
      " Extreme Gradient Boosting score is:  0.12349283203432586 \n",
      "\n"
     ]
    }
   ],
   "source": [
    "model_GBC, model_LGB, model_XGB = boosting_models(X_train,y_train)"
   ]
  },
  {
   "cell_type": "markdown",
   "metadata": {},
   "source": [
    "### Stacking Regressor"
   ]
  },
  {
   "cell_type": "code",
   "execution_count": 197,
   "metadata": {},
   "outputs": [],
   "source": [
    "def stacking_model(X_train,y_train):\n",
    "    \n",
    "    \n",
    "    lasso = Lasso(alpha = 1e-3)\n",
    "    GBC = GradientBoostingRegressor(alpha = 0.85,n_estimators = 1000,max_depth = 3, max_features = 70)\n",
    "    LGB = LGBMRegressor(objective='regression',num_leaves=5,  \n",
    "                        learning_rate=0.05, n_estimators=800)\n",
    "    XGB = xgboost.XGBRegressor(gamma=0.05,learning_rate=0.05, max_depth=3,\n",
    "                               n_estimators=2500,reg_alpha=0.5, reg_lambda=0.85)\n",
    "    \n",
    "    \n",
    "    categorical = X_train.dtypes == object\n",
    "\n",
    "    # Lets do the column transformer with Standar Scaler and One-Hot Encoder.\n",
    "    preprocess = make_column_transformer(\n",
    "        (RobustScaler(), ~categorical),\n",
    "        (OneHotEncoder(handle_unknown = 'ignore'), categorical))\n",
    "\n",
    "    model_SR = make_pipeline(preprocess,\n",
    "                             StackingRegressor(regressors=[GBC,LGB,XGB],\n",
    "                                               meta_regressor=lasso))\n",
    "\n",
    "    scores = cross_val_score(model_SR, X_train, y_train, scoring='neg_mean_squared_error',cv=5, n_jobs = -1)\n",
    "\n",
    "    print(\"Stacking Regressor score \", (np.sqrt(-scores.mean()), scores.std()))\n",
    "    \n",
    "    return model_SR"
   ]
  },
  {
   "cell_type": "code",
   "execution_count": 198,
   "metadata": {},
   "outputs": [
    {
     "name": "stdout",
     "output_type": "stream",
     "text": [
      "Stacking Regressor score  (0.11813620408082884, 0.001961416769287875)\n"
     ]
    }
   ],
   "source": [
    "model_SR = stacking_model(X_train,y_train)"
   ]
  },
  {
   "cell_type": "markdown",
   "metadata": {},
   "source": [
    "### Solutions"
   ]
  },
  {
   "cell_type": "code",
   "execution_count": 199,
   "metadata": {},
   "outputs": [],
   "source": [
    "def toKaggle(test_ID,pred):\n",
    "\n",
    "    resp= test_ID.to_frame('Id')\n",
    "    resp['SalePrice'] = pred\n",
    "    \n",
    "    return resp"
   ]
  },
  {
   "cell_type": "code",
   "execution_count": 200,
   "metadata": {},
   "outputs": [],
   "source": [
    "model_GBC.fit(X_train,y_train)\n",
    "model_XGB.fit(X_train,y_train)\n",
    "model_LGB.fit(X_train,y_train)\n",
    "model_R.fit(X_train,y_train)\n",
    "model_SR.fit(X_train,y_train)\n",
    "model_EN.fit(X_train,y_train)\n",
    "model_L.fit(X_train,y_train)\n",
    "\n",
    "pred_en = np.expm1(model_EN.predict(test))\n",
    "pred_l = np.expm1(model_L.predict(test))\n",
    "pred_gbc = np.expm1(model_GBC.predict(test))\n",
    "pred_lgbm =np.expm1(model_LGB.predict(test))\n",
    "pred_xgb = np.expm1(model_XGB.predict(test))\n",
    "pred_r = np.expm1(model_R.predict(test))\n",
    "pred_sr = np.expm1(model_SR.predict(test))"
   ]
  },
  {
   "cell_type": "code",
   "execution_count": 201,
   "metadata": {},
   "outputs": [],
   "source": [
    "pred = np.floor((pred_sr + pred_lgbm + pred_xgb + pred_r+pred_gbc+pred_en+pred_l)/7)"
   ]
  },
  {
   "cell_type": "code",
   "execution_count": 202,
   "metadata": {},
   "outputs": [],
   "source": [
    "resp = toKaggle(test_ID,pred)"
   ]
  },
  {
   "cell_type": "code",
   "execution_count": 203,
   "metadata": {},
   "outputs": [
    {
     "data": {
      "text/html": [
       "<div>\n",
       "<style scoped>\n",
       "    .dataframe tbody tr th:only-of-type {\n",
       "        vertical-align: middle;\n",
       "    }\n",
       "\n",
       "    .dataframe tbody tr th {\n",
       "        vertical-align: top;\n",
       "    }\n",
       "\n",
       "    .dataframe thead th {\n",
       "        text-align: right;\n",
       "    }\n",
       "</style>\n",
       "<table border=\"1\" class=\"dataframe\">\n",
       "  <thead>\n",
       "    <tr style=\"text-align: right;\">\n",
       "      <th></th>\n",
       "      <th>Id</th>\n",
       "      <th>SalePrice</th>\n",
       "    </tr>\n",
       "  </thead>\n",
       "  <tbody>\n",
       "    <tr>\n",
       "      <th>0</th>\n",
       "      <td>1461</td>\n",
       "      <td>123517.0</td>\n",
       "    </tr>\n",
       "    <tr>\n",
       "      <th>1</th>\n",
       "      <td>1462</td>\n",
       "      <td>158457.0</td>\n",
       "    </tr>\n",
       "    <tr>\n",
       "      <th>2</th>\n",
       "      <td>1463</td>\n",
       "      <td>185745.0</td>\n",
       "    </tr>\n",
       "    <tr>\n",
       "      <th>3</th>\n",
       "      <td>1464</td>\n",
       "      <td>197343.0</td>\n",
       "    </tr>\n",
       "    <tr>\n",
       "      <th>4</th>\n",
       "      <td>1465</td>\n",
       "      <td>187986.0</td>\n",
       "    </tr>\n",
       "  </tbody>\n",
       "</table>\n",
       "</div>"
      ],
      "text/plain": [
       "     Id  SalePrice\n",
       "0  1461   123517.0\n",
       "1  1462   158457.0\n",
       "2  1463   185745.0\n",
       "3  1464   197343.0\n",
       "4  1465   187986.0"
      ]
     },
     "execution_count": 203,
     "metadata": {},
     "output_type": "execute_result"
    }
   ],
   "source": [
    "resp.head(5)"
   ]
  },
  {
   "cell_type": "code",
   "execution_count": 204,
   "metadata": {},
   "outputs": [],
   "source": [
    "resp.to_csv('submission.csv',index = False)"
   ]
  }
 ],
 "metadata": {
  "kernelspec": {
   "display_name": "Python 3",
   "language": "python",
   "name": "python3"
  },
  "language_info": {
   "codemirror_mode": {
    "name": "ipython",
    "version": 3
   },
   "file_extension": ".py",
   "mimetype": "text/x-python",
   "name": "python",
   "nbconvert_exporter": "python",
   "pygments_lexer": "ipython3",
   "version": "3.6.3"
  }
 },
 "nbformat": 4,
 "nbformat_minor": 2
}
